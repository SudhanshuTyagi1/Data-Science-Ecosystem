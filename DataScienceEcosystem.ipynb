{
 "cells": [
  {
   "cell_type": "markdown",
   "id": "b7310782-048f-4d96-af5e-ab062f19f313",
   "metadata": {},
   "source": [
    "# Data Science Tools and Ecosystem"
   ]
  },
  {
   "cell_type": "markdown",
   "id": "998c758c-c9cd-44a8-9804-4afab608987c",
   "metadata": {},
   "source": [
    "**In this notebook, Data Science Tools and Ecosystem are summarized.**"
   ]
  },
  {
   "cell_type": "markdown",
   "id": "1d5c8c4c-9b2c-4484-8fe8-b2004934bd4e",
   "metadata": {},
   "source": [
    "**Objectives**"
   ]
  },
  {
   "cell_type": "markdown",
   "id": "3485100a-0301-4ac2-bc51-5872097c4751",
   "metadata": {},
   "source": [
    "+ Popular Languages for Data Scientists\n",
    "+ Common Used Libraries for Data Scientists\n",
    "+ Data Science Environments\n",
    "+ Examples of Arithmetic Expressions in Python"
   ]
  },
  {
   "cell_type": "markdown",
   "id": "3a973c24-e348-4091-ab13-06795c6a4573",
   "metadata": {},
   "source": [
    "Some of the popular languages that Data Scientists use are:"
   ]
  },
  {
   "cell_type": "markdown",
   "id": "2cd59b28-87dc-43a7-b081-96a63a67384c",
   "metadata": {},
   "source": [
    "1. Python\n",
    "2. R\n",
    "3. Java\n",
    "4. SQL\n",
    "5. Scala"
   ]
  },
  {
   "cell_type": "markdown",
   "id": "bf6d29fc-2597-48fb-9f8d-8cdd73a5ecdc",
   "metadata": {},
   "source": [
    "Some of the commonly used libraries used by Data Scientists include:"
   ]
  },
  {
   "cell_type": "markdown",
   "id": "53c59788-f0ec-4c66-bc31-0154e65ae5d1",
   "metadata": {},
   "source": [
    "+ NumPy\n",
    "+ Pandas\n",
    "+ Matplotlib\n",
    "+ Scikit-learn\n",
    "+ PyTorch"
   ]
  },
  {
   "cell_type": "markdown",
   "id": "8a0afee4-1116-4eb6-8727-96dd0390f281",
   "metadata": {},
   "source": [
    "| Data Science Tools |\n",
    "| ---- |\n",
    "| Jupyer Notebooks |\n",
    "| RStudio |\n",
    "| Apache Zeppelin |"
   ]
  },
  {
   "cell_type": "markdown",
   "id": "0b6625ee-505b-47e6-bebb-135160f4bf1f",
   "metadata": {},
   "source": [
    "### Below are a few examples of evaluating arithmetic expressions in Python"
   ]
  },
  {
   "cell_type": "code",
   "execution_count": 2,
   "id": "c039947e-0676-41f6-b0e5-93f3aaacaef1",
   "metadata": {
    "tags": []
   },
   "outputs": [
    {
     "data": {
      "text/plain": [
       "17"
      ]
     },
     "execution_count": 2,
     "metadata": {},
     "output_type": "execute_result"
    }
   ],
   "source": [
    "# This a simple arithmetic expression to mutiply then add integers\n",
    "(3*4)+5"
   ]
  },
  {
   "cell_type": "code",
   "execution_count": 5,
   "id": "93f4de8f-4957-4ac9-b92c-a44d111f67c4",
   "metadata": {
    "tags": []
   },
   "outputs": [
    {
     "data": {
      "text/plain": [
       "3.3333333333333335"
      ]
     },
     "execution_count": 5,
     "metadata": {},
     "output_type": "execute_result"
    }
   ],
   "source": [
    "# This will convert 200 minutes to hours by dividng by 60\n",
    "(200/60)"
   ]
  },
  {
   "cell_type": "markdown",
   "id": "66853a81-b8db-4ebc-aaf8-84daf100bb96",
   "metadata": {},
   "source": [
    "## Author"
   ]
  },
  {
   "cell_type": "markdown",
   "id": "7478ec59-0054-449d-a83f-25cc9555d976",
   "metadata": {},
   "source": [
    "Sudhanshu Tyagi"
   ]
  },
  {
   "cell_type": "code",
   "execution_count": null,
   "id": "c4b3260b-af9e-43df-b6ba-7cb76acd8311",
   "metadata": {},
   "outputs": [],
   "source": []
  }
 ],
 "metadata": {
  "kernelspec": {
   "display_name": "Python",
   "language": "python",
   "name": "conda-env-python-py"
  },
  "language_info": {
   "codemirror_mode": {
    "name": "ipython",
    "version": 3
   },
   "file_extension": ".py",
   "mimetype": "text/x-python",
   "name": "python",
   "nbconvert_exporter": "python",
   "pygments_lexer": "ipython3",
   "version": "3.7.12"
  }
 },
 "nbformat": 4,
 "nbformat_minor": 5
}
